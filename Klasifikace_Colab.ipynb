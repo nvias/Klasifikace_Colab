{
  "nbformat": 4,
  "nbformat_minor": 0,
  "metadata": {
    "colab": {
      "name": "Klasifikace_Colab.ipynb",
      "provenance": [],
      "collapsed_sections": []
    },
    "kernelspec": {
      "name": "python3",
      "display_name": "Python 3"
    }
  },
  "cells": [
    {
      "cell_type": "markdown",
      "metadata": {
        "id": "Gqo4vtlTqom2"
      },
      "source": [
        "#Klasifikace "
      ]
    },
    {
      "cell_type": "markdown",
      "metadata": {
        "id": "fdUUZrNHq_-X"
      },
      "source": [
        "Jako první se podíváme na úlohu **klasifikace**.\r\n",
        "\r\n",
        "Co to vlastně je klasifikace? Jednoduše řečeno - rozdělení do tříd. \r\n",
        "\r\n",
        "Máme nějaký dataset objektů, v tomto případě to jsou jednokolky, kola, motorky, automobily a dodávky. Každý objekt je reprezentován vektorem [x,y], x = počet kol a y = hmotnost.\r\n",
        "\r\n",
        "Na začátku máme k datasetu kde i informaci od učitele (člověka), která nám říká, do jaké třídy jednotlivé objekty datasetu zařadit. \r\n",
        "\r\n",
        "Jako první si natrénujeme klasifikátor - algoritmus, kterému poté předložíme nějaký neznámý objekt a ten ho následně klasifikuje do třídy."
      ]
    },
    {
      "cell_type": "code",
      "metadata": {
        "colab": {
          "base_uri": "https://localhost:8080/",
          "height": 281
        },
        "id": "IfN4r6tpqmlt",
        "outputId": "60d98039-cc95-4c32-bddd-d81cd2c36a7b"
      },
      "source": [
        "#Import kihoven\r\n",
        "import matplotlib.pyplot as plt\r\n",
        "\r\n",
        "colors = ['ro', 'yo', 'go', 'bo', 'ko', 'mo']\r\n",
        "\r\n",
        "#Dataset\r\n",
        "Jednokolky = [[1,3],[1,1],[1,1.8],[1,2.4]]\r\n",
        "Kola = [[2,3],[2,1.4],[2,2.1],[2,2.4]]\r\n",
        "Motorky = [[2,130],[2,160],[2,180],[2,210]]\r\n",
        "Automobily = [[4,1000],[4,810],[4,1280],[4,1190]]\r\n",
        "Dodávky  = [[4,2000],[4,2810],[4,1580],[4,2190]]\r\n",
        "\r\n",
        "data = [Jednokolky,Kola,Motorky,Automobily,Dodávky]\r\n",
        "\r\n",
        "for i in range(0,len(data)):\r\n",
        "    for j in data[i]:\r\n",
        "      plt.plot(j[0],j[1],colors[i])\r\n",
        "plt.title('Data set ve 2D')\r\n",
        "plt.show()"
      ],
      "execution_count": null,
      "outputs": [
        {
          "output_type": "display_data",
          "data": {
            "image/png": "[encoded data removed]",
            "text/plain": [
              "<Figure size 432x288 with 1 Axes>"
            ]
          },
          "metadata": {
            "tags": [],
            "needs_background": "light"
          }
        }
      ]
    },
    {
      "cell_type": "markdown",
      "metadata": {
        "id": "uy3Rcdodua8k"
      },
      "source": [
        "Všiměte si červeného bodu v levém dolním rohu grafu. Vypadá to na jediný bod, ve skutečnosti je to však několik bodů, které se překrývají. Tady by měl datový analitky zbystřit zrak a zkusit jinou vizualizaci dat (třeba logaritmickou) Konec konců přece nechete přehlédnout celý trh s jednokolkami jen proto, že se tváří že je malý v datasetu.\r\n",
        "\r\n",
        "Nyní máme natrénovaný klasifikátor a můžeme začít klasifikovat objekty u nichž neznáme třídu. "
      ]
    },
    {
      "cell_type": "markdown",
      "metadata": {
        "id": "sS60wy4ZuzyK"
      },
      "source": [
        "Vyzkoušejme klasifikovat nějaký objekt. Tento objekt má 4 kola a váží  1118 Kg (bod [4,1118]) kam ho počítač klasifikuje? "
      ]
    },
    {
      "cell_type": "code",
      "metadata": {
        "id": "q7khZSjhu9Bi",
        "colab": {
          "base_uri": "https://localhost:8080/"
        },
        "outputId": "9f907128-3dc5-429e-86ba-b3d360dd48f6"
      },
      "source": [
        "from sklearn.naive_bayes import GaussianNB\r\n",
        "#Numericko-matematická knihovna\r\n",
        "import numpy as np\r\n",
        "#Vytvoření modelu \r\n",
        "model = GaussianNB()\r\n",
        "\r\n",
        "kategorie = ['Jednokolky','Kola','Motorky','Automobily','Dodávky']\r\n",
        "\r\n",
        "#Nadefinujeme náš bod\r\n",
        "#má 4 kola a váží 1118Kg\r\n",
        "bod_ke_klasifikaci = np.array([[4,1118]])\r\n",
        "\r\n",
        "classes = []\r\n",
        "\r\n",
        "dataset = []\r\n",
        "\r\n",
        "#Kod pro přetvoření do numpy array\r\n",
        "for i in range(0,len(data)):\r\n",
        "  for j in data[i]:\r\n",
        "    classes.append(i)\r\n",
        "    dataset.append(np.array(j))\r\n",
        "  \r\n",
        "\r\n",
        "model.fit(dataset,classes)\r\n",
        "print('Model natrénován')\r\n",
        "\r\n",
        "x = model.predict(bod_ke_klasifikaci)\r\n",
        "\r\n",
        "print('Kategore', kategorie[x[0]])\r\n"
      ],
      "execution_count": null,
      "outputs": [
        {
          "output_type": "stream",
          "text": [
            "Model natrénován\n",
            "Kategore Jednokolky\n"
          ],
          "name": "stdout"
        }
      ]
    },
    {
      "cell_type": "markdown",
      "metadata": {
        "id": "0UiPJ1IMNXQX"
      },
      "source": [
        "Vyzkoušejte si libovolně měnit počet kol i hmotnost a pozorujte, kam bude bod klasifikovaný. "
      ]
    },
    {
      "cell_type": "markdown",
      "metadata": {
        "id": "VI3jqLhVNeku"
      },
      "source": [
        "#Rozdělení do tříd\r\n",
        "Doposud jsme znali počet kategorií, kam klasifikujeme. Nyní s představme situaci, kdy nemáme v podstatě žádné informace o datasetu.\r\n",
        "\r\n",
        "Zaměříme se na úlohu rozdělení datasetu do tříd, když ani neznáme počet tříd.\r\n",
        "\r\n",
        "Jako první tedy musíme zjistit počet tříd. "
      ]
    },
    {
      "cell_type": "code",
      "metadata": {
        "colab": {
          "base_uri": "https://localhost:8080/",
          "height": 265
        },
        "id": "N-jQzToxOVyw",
        "outputId": "de55a343-6e15-4619-f345-8d2bfed0ed14"
      },
      "source": [
        "dataset = [[4.3, 9.9], [17.9, 21.9], [31.1, 17.4], [2.6, 5.1], [18.0, 22.1], [39.1, 17.0], [0.1, 8.9], [16.2, 20.6], [35.9, 18.8], [7.0, 3.9], [17.6, 22.8], [32.0, 16.1], [2.3, 9.0], [15.5, 20.1], [31.3, 17.4], [3.6, 5.1], [17.0, 23.0], [37.7, 15.5], [4.1, 8.5], [15.1, 20.1], [33.8, 19.8], [5.2, 3.4], [18.5, 24.9], [33.9, 19.5], [5.9, 5.1], [17.6, 20.6], [32.2, 16.6], [8.8, 5.0], [15.6, 23.1], [34.7, 18.8]]\r\n",
        "\r\n",
        "for i in dataset:\r\n",
        "  plt.plot(i[0],i[1],'ro')\r\n"
      ],
      "execution_count": null,
      "outputs": [
        {
          "output_type": "display_data",
          "data": {
            "image/png": "[encoded data removed]",
            "text/plain": [
              "<Figure size 432x288 with 1 Axes>"
            ]
          },
          "metadata": {
            "tags": [],
            "needs_background": "light"
          }
        }
      ]
    },
    {
      "cell_type": "markdown",
      "metadata": {
        "id": "yLh6xafQPexE"
      },
      "source": [
        "Z vykresleného grafu vidíme, že v datasetu máme pravděpodobně tři třídy. Takhle jednoduché to bohužel většinou není. Ve většině situací máme milióny dat ve stovkách dimenzí, které rozhodně nejsou takhle přehledné. \r\n",
        "\r\n",
        "Proto využijeme metodu shlukování. \r\n",
        "\r\n",
        "\r\n",
        "Pomocí algoritmu Kmeans, o kterém si povíme zas někdy jindy, rozdělíme dataset na X nejpodobnějších shluků."
      ]
    },
    {
      "cell_type": "code",
      "metadata": {
        "colab": {
          "base_uri": "https://localhost:8080/",
          "height": 763
        },
        "id": "l2d5DrPFPuFj",
        "outputId": "ab879104-75d2-4693-952e-15c1cf9b4033"
      },
      "source": [
        "np_dataset = np.array(dataset)\r\n",
        "\r\n",
        "#Využíváme algoritmu Kmeans s tím že matematickou hatmatilkou dostáváme vzdálenosti ke středu shluku \r\n",
        "import pandas as pd\r\n",
        "from sklearn.preprocessing import MinMaxScaler\r\n",
        "from sklearn.cluster import KMeans\r\n",
        "import matplotlib.pyplot as plt\r\n",
        "\r\n",
        "Sum_of_squared_distances = []\r\n",
        "K = range(1,10)\r\n",
        "for k in K:\r\n",
        "    km = KMeans(n_clusters=k)\r\n",
        "    km = km.fit(np_dataset)\r\n",
        "    print(km)\r\n",
        "    Sum_of_squared_distances.append(km.inertia_)\r\n",
        "plt.plot(K, Sum_of_squared_distances, 'bx-')\r\n",
        "plt.xlabel('k')\r\n",
        "plt.ylabel('Sum_of_squared_distances')\r\n",
        "plt.title('Elbow Method For Optimal k')\r\n",
        "plt.show()"
      ],
      "execution_count": null,
      "outputs": [
        {
          "output_type": "stream",
          "text": [
            "KMeans(algorithm='auto', copy_x=True, init='k-means++', max_iter=300,\n",
            "       n_clusters=1, n_init=10, n_jobs=None, precompute_distances='auto',\n",
            "       random_state=None, tol=0.0001, verbose=0)\n",
            "KMeans(algorithm='auto', copy_x=True, init='k-means++', max_iter=300,\n",
            "       n_clusters=2, n_init=10, n_jobs=None, precompute_distances='auto',\n",
            "       random_state=None, tol=0.0001, verbose=0)\n",
            "KMeans(algorithm='auto', copy_x=True, init='k-means++', max_iter=300,\n",
            "       n_clusters=3, n_init=10, n_jobs=None, precompute_distances='auto',\n",
            "       random_state=None, tol=0.0001, verbose=0)\n",
            "KMeans(algorithm='auto', copy_x=True, init='k-means++', max_iter=300,\n",
            "       n_clusters=4, n_init=10, n_jobs=None, precompute_distances='auto',\n",
            "       random_state=None, tol=0.0001, verbose=0)\n",
            "KMeans(algorithm='auto', copy_x=True, init='k-means++', max_iter=300,\n",
            "       n_clusters=5, n_init=10, n_jobs=None, precompute_distances='auto',\n",
            "       random_state=None, tol=0.0001, verbose=0)\n",
            "KMeans(algorithm='auto', copy_x=True, init='k-means++', max_iter=300,\n",
            "       n_clusters=6, n_init=10, n_jobs=None, precompute_distances='auto',\n",
            "       random_state=None, tol=0.0001, verbose=0)\n",
            "KMeans(algorithm='auto', copy_x=True, init='k-means++', max_iter=300,\n",
            "       n_clusters=7, n_init=10, n_jobs=None, precompute_distances='auto',\n",
            "       random_state=None, tol=0.0001, verbose=0)\n",
            "KMeans(algorithm='auto', copy_x=True, init='k-means++', max_iter=300,\n",
            "       n_clusters=8, n_init=10, n_jobs=None, precompute_distances='auto',\n",
            "       random_state=None, tol=0.0001, verbose=0)\n",
            "KMeans(algorithm='auto', copy_x=True, init='k-means++', max_iter=300,\n",
            "       n_clusters=9, n_init=10, n_jobs=None, precompute_distances='auto',\n",
            "       random_state=None, tol=0.0001, verbose=0)\n"
          ],
          "name": "stdout"
        },
        {
          "output_type": "display_data",
          "data": {
            "image/png": "[encoded data removed]",
            "text/plain": [
              "<Figure size 432x288 with 1 Axes>"
            ]
          },
          "metadata": {
            "tags": [],
            "needs_background": "light"
          }
        }
      ]
    },
    {
      "cell_type": "markdown",
      "metadata": {
        "id": "HGnmoLpgSqY4"
      },
      "source": [
        "Tento graf nám říká, jak moc velké rozdíly jsou mezi jednotlivými shluky. Mezi shlukem 1 a 2 pozorujeme velký rozdíl, to zanamená, že to budou rozdílné třídy. To samé platí pro shluky 2 a 3. Naopak mezi shluky 3, 4, 5,..., 9 jsou rozdíly minimální. To znamená, že jsou ze stejné třídy. \r\n",
        "\r\n",
        "Tento graf můžeme vytvořit pro dataset s desítkami dimenzí."
      ]
    },
    {
      "cell_type": "code",
      "metadata": {
        "colab": {
          "base_uri": "https://localhost:8080/",
          "height": 265
        },
        "id": "U7tOix2xTWv7",
        "outputId": "44ccb20a-4819-44a6-c500-cc636b687ed5"
      },
      "source": [
        "#Teď je potřeba provést rozdělení do tříd využijeme opět algoritmus Kmenas\r\n",
        "#Zde můžete experimentovat\r\n",
        "pocet_shluku = 5\r\n",
        "\r\n",
        "km = KMeans(n_clusters=pocet_shluku)\r\n",
        "km = km.fit(np_dataset)\r\n",
        "y_kmeans = km.predict(np_dataset)\r\n",
        "\r\n",
        "\r\n",
        "plt.scatter(np_dataset[:, 0], np_dataset[:, 1], c=y_kmeans, s=50, cmap='viridis')\r\n",
        "\r\n",
        "centers = km.cluster_centers_\r\n",
        "plt.scatter(centers[:, 0], centers[:, 1], c='black', s=200, alpha=0.5);"
      ],
      "execution_count": null,
      "outputs": [
        {
          "output_type": "display_data",
          "data": {
            "image/png": "[encoded data removed]",
            "text/plain": [
              "<Figure size 432x288 with 1 Axes>"
            ]
          },
          "metadata": {
            "tags": [],
            "needs_background": "light"
          }
        }
      ]
    },
    {
      "cell_type": "markdown",
      "metadata": {
        "id": "EHSxY_3Wuuk0"
      },
      "source": [
        "V grafu vidíme barevně oddělené jednotlivé shluky. \r\n",
        "\r\n",
        "Co jsou ty šedé tečky? To jsou středy našich shluků. V podstatě nám to říkají,  jak by měl vypadat průměrný bod shluku. Tento průměrný bod si můžeme představt jako např. průměrné parametry produktu v dané kategorii. \r\n",
        "\r\n",
        "Uvědomte si rozdíl mezi klasifikací a třízením do tříd.  "
      ]
    },
    {
      "cell_type": "markdown",
      "metadata": {
        "id": "KeyOo34LvKGQ"
      },
      "source": [
        "#Predikce\r\n",
        "Poslední úloha na kterou se zaměříme je predikce.\r\n",
        "\r\n",
        "Představme si, že chceme vědět kolik se v následujícím období prodá zmrzliny. Použijeme data z prodejů za minulé období a počet dětí ve městě a necháme to vše uvařit pomocí AI. (Přiznám se, že tady budeme trošku podvádět a k učení využejeme jen kalasickou regresi.)"
      ]
    },
    {
      "cell_type": "code",
      "metadata": {
        "colab": {
          "base_uri": "https://localhost:8080/",
          "height": 283
        },
        "id": "SB8h9y_5suol",
        "outputId": "8ed8e2d1-cae2-4924-8078-e197cef91be2"
      },
      "source": [
        "import numpy as np\r\n",
        "import matplotlib.pyplot as plt\r\n",
        "\r\n",
        "\r\n",
        "dataset = [7.310539685224871, -9.30070354748827, 0.38791397993246246, 1.0797282266579218, 9.668847211677187, -0.4994563365701543, 5.1378589622478215, 2.610707910393141, 8.211068733577964, 11.91407606857911, 4.496904113935393, 16.723618549198072, 16.50795360296398, 15.51247169450934, 18.50427974632206, 11.581360704128334, 15.385548872406758, 12.321152828704657, 16.66055960186992, 21.65177733369093]\r\n",
        "\r\n",
        "x = np.array(dataset)\r\n",
        "y = np.array(list(range(0, 20)))\r\n",
        "m, b = np.polyfit(x, y, 1)\r\n",
        "\r\n",
        "\r\n",
        "plt.plot(dataset,'ro')\r\n",
        "plt.plot(x, m*x + b)"
      ],
      "execution_count": null,
      "outputs": [
        {
          "output_type": "execute_result",
          "data": {
            "text/plain": [
              "[<matplotlib.lines.Line2D at 0x7fe34b94b250>]"
            ]
          },
          "metadata": {
            "tags": []
          },
          "execution_count": 8
        },
        {
          "output_type": "display_data",
          "data": {
            "image/png": "[encoded data removed]",
            "text/plain": [
              "<Figure size 432x288 with 1 Axes>"
            ]
          },
          "metadata": {
            "tags": [],
            "needs_background": "light"
          }
        }
      ]
    }
  ]
}